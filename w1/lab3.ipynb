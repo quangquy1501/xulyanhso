{
 "cells": [
  {
   "cell_type": "code",
   "execution_count": null,
   "id": "ace7cb0f",
   "metadata": {},
   "outputs": [
    {
     "name": "stdout",
     "output_type": "stream",
     "text": [
      "Đã lưu các ảnh: anh_Hue.jpg, anh_Saturation.jpg, anh_Value.jpg\n"
     ]
    }
   ],
   "source": [
    "import cv2\n",
    "import numpy as np\n",
    "\n",
    "# Đọc ảnh gốc\n",
    "image = cv2.imread('bird.png')  \n",
    "\n",
    "# Chuyển sang hệ màu HSV\n",
    "hsv = cv2.cvtColor(image, cv2.COLOR_BGR2HSV)\n",
    "\n",
    "# Tách các kênh H, S, V\n",
    "H, S, V = cv2.split(hsv)\n",
    "\n",
    "# Tạo ảnh màu cho từng kênh\n",
    "hue_img = cv2.merge([H, np.full_like(S, 255), np.full_like(V, 255)])      # Chỉ giữ kênh H, S và V đặt max\n",
    "sat_img = cv2.merge([np.full_like(H, 0), S, np.full_like(V, 255)])        # Chỉ giữ kênh S\n",
    "val_img = cv2.merge([np.full_like(H, 0), np.full_like(S, 0), V])          # Chỉ giữ kênh V\n",
    "\n",
    "# Chuyển về BGR để lưu và hiển thị\n",
    "hue_bgr = cv2.cvtColor(hue_img, cv2.COLOR_HSV2BGR)\n",
    "sat_bgr = cv2.cvtColor(sat_img, cv2.COLOR_HSV2BGR)\n",
    "val_bgr = cv2.cvtColor(val_img, cv2.COLOR_HSV2BGR)\n",
    "\n",
    "# Lưu các ảnh\n",
    "cv2.imwrite('anh_Hue.jpg', hue_bgr)\n",
    "cv2.imwrite('anh_Saturation.jpg', sat_bgr)\n",
    "cv2.imwrite('anh_Value.jpg', val_bgr)\n",
    "\n",
    "print(\"Đã lưu các ảnh: anh_Hue.jpg, anh_Saturation.jpg, anh_Value.jpg\")"
   ]
  }
 ],
 "metadata": {
  "kernelspec": {
   "display_name": "Python 3",
   "language": "python",
   "name": "python3"
  },
  "language_info": {
   "codemirror_mode": {
    "name": "ipython",
    "version": 3
   },
   "file_extension": ".py",
   "mimetype": "text/x-python",
   "name": "python",
   "nbconvert_exporter": "python",
   "pygments_lexer": "ipython3",
   "version": "3.11.9"
  }
 },
 "nbformat": 4,
 "nbformat_minor": 5
}
