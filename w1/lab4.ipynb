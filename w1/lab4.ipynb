{
 "cells": [
  {
   "cell_type": "code",
   "execution_count": null,
   "id": "8b7fe17c",
   "metadata": {},
   "outputs": [
    {
     "name": "stdout",
     "output_type": "stream",
     "text": [
      "Đã lưu ảnh mới với H_new = 1/3*H, V_new = 1/3*V: anh_HV_new.jpg\n"
     ]
    }
   ],
   "source": [
    "import cv2\n",
    "import numpy as np\n",
    "\n",
    "# Đọc ảnh gốc\n",
    "image = cv2.imread('bird.png')\n",
    "\n",
    "# Chuyển sang hệ màu HSV\n",
    "hsv = cv2.cvtColor(image, cv2.COLOR_BGR2HSV)\n",
    "\n",
    "# Tách các kênh H, S, V\n",
    "H, S, V = cv2.split(hsv)\n",
    "\n",
    "# Tính H_new và V_new\n",
    "H_new = (H / 3).astype(np.uint8)\n",
    "V_new = (V / 3).astype(np.uint8)\n",
    "\n",
    "# Ghép lại thành ảnh HSV mới\n",
    "hsv_new = cv2.merge([H_new, S, V_new])\n",
    "\n",
    "# Chuyển về BGR để lưu và hiển thị\n",
    "bgr_new = cv2.cvtColor(hsv_new, cv2.COLOR_HSV2BGR)\n",
    "\n",
    "# Lưu ảnh kết quả\n",
    "cv2.imwrite('anh_HV_new.jpg', bgr_new)\n",
    "\n"
   ]
  },
  {
   "cell_type": "code",
   "execution_count": 8,
   "id": "2cf51ec5",
   "metadata": {},
   "outputs": [
    {
     "name": "stdout",
     "output_type": "stream",
     "text": [
      "Đã lưu ảnh mới với H_new = 1/3*H, V_new = 1/3*V: anh_HV_new2.jpg\n"
     ]
    }
   ],
   "source": [
    "import matplotlib.pyplot as plt\n",
    "import numpy as np  \n",
    "import imageio.v2 as iio\n",
    "import colorsys\n",
    " \n",
    "rgb = iio.imread('bird.png')\n",
    "rgb2hsv = np.vectorize(colorsys.rgb_to_hsv)\n",
    "h,s,v = rgb2hsv(rgb[:,:,0], rgb[:,:,1], rgb[:,:,2])\n",
    "h_new = (H / 3).astype(np.uint8)\n",
    "v_new = (V / 3).astype(np.uint8)\n",
    "hsv_new = cv2.merge([H_new, S, V_new])\n",
    "bgr_new = cv2.cvtColor(hsv_new, cv2.COLOR_HSV2BGR)\n",
    "cv2.imwrite('anh_HV_new.jpg', bgr_new)\n",
    "print(\"Đã lưu ảnh mới với H_new = 1/3*H, V_new = 1/3*V: anh_HV_new2.jpg\")"
   ]
  },
  {
   "cell_type": "code",
   "execution_count": null,
   "id": "5b7c7785",
   "metadata": {},
   "outputs": [],
   "source": []
  }
 ],
 "metadata": {
  "kernelspec": {
   "display_name": "Python 3",
   "language": "python",
   "name": "python3"
  },
  "language_info": {
   "codemirror_mode": {
    "name": "ipython",
    "version": 3
   },
   "file_extension": ".py",
   "mimetype": "text/x-python",
   "name": "python",
   "nbconvert_exporter": "python",
   "pygments_lexer": "ipython3",
   "version": "3.11.9"
  }
 },
 "nbformat": 4,
 "nbformat_minor": 5
}
