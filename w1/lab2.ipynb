{
 "cells": [
  {
   "cell_type": "code",
   "execution_count": 18,
   "id": "1e2efff6",
   "metadata": {},
   "outputs": [
    {
     "name": "stdout",
     "output_type": "stream",
     "text": [
      "Đã lưu các ảnh với các kênh màu hoán đổi: anh_RGB.jpg, anh_GRB.jpg, anh_BRG.jpg\n"
     ]
    }
   ],
   "source": [
    "import cv2\n",
    "import numpy as np\n",
    "import matplotlib.pyplot as plt\n",
    "# Đọc ảnh gốc\n",
    "image = cv2.imread('bird.png')  \n",
    "\n",
    "# Hoán đổi kênh màu\n",
    "rgb = cv2.cvtColor(image, cv2.COLOR_BGR2RGB)      # BGR -> RGB\n",
    "grb = image[:, :, [1, 2, 0]]                      # BGR -> GRB\n",
    "brg = image[:, :, [1, 1, 2]]                      # BGR -> BRG\n",
    "# Lưu các ảnh đã hoán đổi kênh màu\n",
    "cv2.imwrite('anh_RGB.jpg', rgb)\n",
    "cv2.imwrite('anh_GRB.jpg', grb)\n",
    "cv2.imwrite('anh_BRG.jpg', brg)\n",
    "print(\"Đã lưu các ảnh với các kênh màu hoán đổi: anh_RGB.jpg, anh_GRB.jpg, anh_BRG.jpg\")\n",
    "plt.show()"
   ]
  }
 ],
 "metadata": {
  "kernelspec": {
   "display_name": "Python 3",
   "language": "python",
   "name": "python3"
  },
  "language_info": {
   "codemirror_mode": {
    "name": "ipython",
    "version": 3
   },
   "file_extension": ".py",
   "mimetype": "text/x-python",
   "name": "python",
   "nbconvert_exporter": "python",
   "pygments_lexer": "ipython3",
   "version": "3.11.9"
  }
 },
 "nbformat": 4,
 "nbformat_minor": 5
}
